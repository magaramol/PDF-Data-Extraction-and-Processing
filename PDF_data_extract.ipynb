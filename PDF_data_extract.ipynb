{
  "nbformat": 4,
  "nbformat_minor": 0,
  "metadata": {
    "colab": {
      "provenance": []
    },
    "kernelspec": {
      "name": "python3",
      "display_name": "Python 3"
    },
    "language_info": {
      "name": "python"
    }
  },
  "cells": [
    {
      "cell_type": "markdown",
      "source": [
        "# PDF Table Extraction from MHA Website Using Camelot\n",
        "\n",
        "This project focuses on extracting table data from Ministry of Home Affairs (MHA) PDFs using **Camelot**. These PDFs contain structured data in table format, and **Camelot** is ideal for extracting such tabular data accurately.\n",
        "\n",
        "### **Camelot-Based Table Extraction**\n",
        "\n",
        "\n",
        "## Project Overview\n",
        "\n",
        "- **Download PDFs**: Automatically download PDF files from the MHA website using `requests` and `BeautifulSoup`.\n",
        "- **Extract Tables**: Use **Camelot** to extract tables from the PDFs, especially from PDFs containing structured tabular data.\n",
        "\n",
        "## Features\n",
        "\n",
        "- **Table Extraction**: Extracts tables from each PDF file and combines the data into a pandas dataframe for further analysis.\n",
        "- **Text Extraction**: Additionally, extracts introductory text from the first page using **PDFplumber**.\n",
        "\n",
        "## Steps\n",
        "\n",
        "1. **Download PDFs from MHA Website**:\n",
        "   We use `BeautifulSoup` to extract links to the PDF files on the MHA website, and `requests` is used to download them.\n",
        "   \n",
        "2. **Table Extraction Using Camelot**:\n",
        "   **Camelot** is used to extract tables from the PDF files, converting the data into a pandas dataframe. The data is then cleaned and structured appropriately.\n",
        "   \n",
        "3. **Data Combination**:\n",
        "   Both text and table data are extracted and combined into a structured dictionary.\n",
        "\n",
        "## Requirements\n",
        "\n",
        "Install the required Python libraries:\n",
        "\n",
        "```python\n",
        "!pip install ghostscript\n",
        "!apt-get install -y ghostscript\n",
        "!pip install camelot-py\n",
        "!pip install pdfplumber\n",
        "```\n",
        "\n",
        "The script processes:\n",
        "- Downloads PDFs.\n",
        "- Extracts tables using **Camelot** and combines them into a pandas dataframe.\n",
        "- Extracts introductory text using **PDFplumber** for additional context.\n",
        "\n",
        "## Sample Output\n",
        "\n",
        "```python\n",
        "{\n",
        "    \"title\": \"List of Unlawful Associations...\",\n",
        "    \"data\": [\n",
        "        {\"sr_no\": \"1\", \"Name_of_Association\": \"ABC Organization\"},\n",
        "        {\"sr_no\": \"2\", \"Name_of_Association\": \"XYZ Organization\"},\n",
        "        ...\n",
        "    ]\n",
        "}\n",
        "```\n"
      ],
      "metadata": {
        "id": "Hd9Wy5WFVPfA"
      }
    },
    {
      "cell_type": "code",
      "source": [
        "# install necesaasry libs\n",
        "\n",
        "!pip install ghostscript\n",
        "!apt-get install -y ghostscript\n",
        "!pip install camelot-py\n",
        "!pip install pdfplumber"
      ],
      "metadata": {
        "id": "sMoW74ReVpVE",
        "colab": {
          "base_uri": "https://localhost:8080/"
        },
        "outputId": "060fa606-564f-48f1-bb08-b4e8cc3a3383"
      },
      "execution_count": null,
      "outputs": [
        {
          "output_type": "stream",
          "name": "stdout",
          "text": [
            "Collecting ghostscript\n",
            "  Downloading ghostscript-0.7-py2.py3-none-any.whl.metadata (4.4 kB)\n",
            "Requirement already satisfied: setuptools>=38.6.0 in /usr/local/lib/python3.10/dist-packages (from ghostscript) (71.0.4)\n",
            "Downloading ghostscript-0.7-py2.py3-none-any.whl (25 kB)\n",
            "Installing collected packages: ghostscript\n",
            "Successfully installed ghostscript-0.7\n",
            "Reading package lists... Done\n",
            "Building dependency tree... Done\n",
            "Reading state information... Done\n",
            "The following additional packages will be installed:\n",
            "  fonts-droid-fallback fonts-noto-mono fonts-urw-base35 libgs9 libgs9-common libidn12 libijs-0.35\n",
            "  libjbig2dec0 poppler-data\n",
            "Suggested packages:\n",
            "  fonts-noto fonts-freefont-otf | fonts-freefont-ttf fonts-texgyre ghostscript-x poppler-utils\n",
            "  fonts-japanese-mincho | fonts-ipafont-mincho fonts-japanese-gothic | fonts-ipafont-gothic\n",
            "  fonts-arphic-ukai fonts-arphic-uming fonts-nanum\n",
            "The following NEW packages will be installed:\n",
            "  fonts-droid-fallback fonts-noto-mono fonts-urw-base35 ghostscript libgs9 libgs9-common libidn12\n",
            "  libijs-0.35 libjbig2dec0 poppler-data\n",
            "0 upgraded, 10 newly installed, 0 to remove and 49 not upgraded.\n",
            "Need to get 16.7 MB of archives.\n",
            "After this operation, 63.0 MB of additional disk space will be used.\n",
            "Get:1 http://archive.ubuntu.com/ubuntu jammy/main amd64 fonts-droid-fallback all 1:6.0.1r16-1.1build1 [1,805 kB]\n",
            "Get:2 http://archive.ubuntu.com/ubuntu jammy/main amd64 poppler-data all 0.4.11-1 [2,171 kB]\n",
            "Get:3 http://archive.ubuntu.com/ubuntu jammy/main amd64 fonts-noto-mono all 20201225-1build1 [397 kB]\n",
            "Get:4 http://archive.ubuntu.com/ubuntu jammy/main amd64 fonts-urw-base35 all 20200910-1 [6,367 kB]\n",
            "Get:5 http://archive.ubuntu.com/ubuntu jammy-updates/main amd64 libgs9-common all 9.55.0~dfsg1-0ubuntu5.9 [752 kB]\n",
            "Get:6 http://archive.ubuntu.com/ubuntu jammy-updates/main amd64 libidn12 amd64 1.38-4ubuntu1 [60.0 kB]\n",
            "Get:7 http://archive.ubuntu.com/ubuntu jammy/main amd64 libijs-0.35 amd64 0.35-15build2 [16.5 kB]\n",
            "Get:8 http://archive.ubuntu.com/ubuntu jammy/main amd64 libjbig2dec0 amd64 0.19-3build2 [64.7 kB]\n",
            "Get:9 http://archive.ubuntu.com/ubuntu jammy-updates/main amd64 libgs9 amd64 9.55.0~dfsg1-0ubuntu5.9 [5,033 kB]\n",
            "Get:10 http://archive.ubuntu.com/ubuntu jammy-updates/main amd64 ghostscript amd64 9.55.0~dfsg1-0ubuntu5.9 [49.5 kB]\n",
            "Fetched 16.7 MB in 1s (32.6 MB/s)\n",
            "Selecting previously unselected package fonts-droid-fallback.\n",
            "(Reading database ... 123597 files and directories currently installed.)\n",
            "Preparing to unpack .../0-fonts-droid-fallback_1%3a6.0.1r16-1.1build1_all.deb ...\n",
            "Unpacking fonts-droid-fallback (1:6.0.1r16-1.1build1) ...\n",
            "Selecting previously unselected package poppler-data.\n",
            "Preparing to unpack .../1-poppler-data_0.4.11-1_all.deb ...\n",
            "Unpacking poppler-data (0.4.11-1) ...\n",
            "Selecting previously unselected package fonts-noto-mono.\n",
            "Preparing to unpack .../2-fonts-noto-mono_20201225-1build1_all.deb ...\n",
            "Unpacking fonts-noto-mono (20201225-1build1) ...\n",
            "Selecting previously unselected package fonts-urw-base35.\n",
            "Preparing to unpack .../3-fonts-urw-base35_20200910-1_all.deb ...\n",
            "Unpacking fonts-urw-base35 (20200910-1) ...\n",
            "Selecting previously unselected package libgs9-common.\n",
            "Preparing to unpack .../4-libgs9-common_9.55.0~dfsg1-0ubuntu5.9_all.deb ...\n",
            "Unpacking libgs9-common (9.55.0~dfsg1-0ubuntu5.9) ...\n",
            "Selecting previously unselected package libidn12:amd64.\n",
            "Preparing to unpack .../5-libidn12_1.38-4ubuntu1_amd64.deb ...\n",
            "Unpacking libidn12:amd64 (1.38-4ubuntu1) ...\n",
            "Selecting previously unselected package libijs-0.35:amd64.\n",
            "Preparing to unpack .../6-libijs-0.35_0.35-15build2_amd64.deb ...\n",
            "Unpacking libijs-0.35:amd64 (0.35-15build2) ...\n",
            "Selecting previously unselected package libjbig2dec0:amd64.\n",
            "Preparing to unpack .../7-libjbig2dec0_0.19-3build2_amd64.deb ...\n",
            "Unpacking libjbig2dec0:amd64 (0.19-3build2) ...\n",
            "Selecting previously unselected package libgs9:amd64.\n",
            "Preparing to unpack .../8-libgs9_9.55.0~dfsg1-0ubuntu5.9_amd64.deb ...\n",
            "Unpacking libgs9:amd64 (9.55.0~dfsg1-0ubuntu5.9) ...\n",
            "Selecting previously unselected package ghostscript.\n",
            "Preparing to unpack .../9-ghostscript_9.55.0~dfsg1-0ubuntu5.9_amd64.deb ...\n",
            "Unpacking ghostscript (9.55.0~dfsg1-0ubuntu5.9) ...\n",
            "Setting up fonts-noto-mono (20201225-1build1) ...\n",
            "Setting up libijs-0.35:amd64 (0.35-15build2) ...\n",
            "Setting up fonts-urw-base35 (20200910-1) ...\n",
            "Setting up poppler-data (0.4.11-1) ...\n",
            "Setting up libjbig2dec0:amd64 (0.19-3build2) ...\n",
            "Setting up libidn12:amd64 (1.38-4ubuntu1) ...\n",
            "Setting up fonts-droid-fallback (1:6.0.1r16-1.1build1) ...\n",
            "Setting up libgs9-common (9.55.0~dfsg1-0ubuntu5.9) ...\n",
            "Setting up libgs9:amd64 (9.55.0~dfsg1-0ubuntu5.9) ...\n",
            "Setting up ghostscript (9.55.0~dfsg1-0ubuntu5.9) ...\n",
            "Processing triggers for fontconfig (2.13.1-4.2ubuntu5) ...\n",
            "Processing triggers for libc-bin (2.35-0ubuntu3.4) ...\n",
            "/sbin/ldconfig.real: /usr/local/lib/libtbbbind_2_5.so.3 is not a symbolic link\n",
            "\n",
            "/sbin/ldconfig.real: /usr/local/lib/libtbb.so.12 is not a symbolic link\n",
            "\n",
            "/sbin/ldconfig.real: /usr/local/lib/libur_adapter_opencl.so.0 is not a symbolic link\n",
            "\n",
            "/sbin/ldconfig.real: /usr/local/lib/libtbbmalloc.so.2 is not a symbolic link\n",
            "\n",
            "/sbin/ldconfig.real: /usr/local/lib/libtbbbind_2_0.so.3 is not a symbolic link\n",
            "\n",
            "/sbin/ldconfig.real: /usr/local/lib/libtbbbind.so.3 is not a symbolic link\n",
            "\n",
            "/sbin/ldconfig.real: /usr/local/lib/libur_adapter_level_zero.so.0 is not a symbolic link\n",
            "\n",
            "/sbin/ldconfig.real: /usr/local/lib/libtbbmalloc_proxy.so.2 is not a symbolic link\n",
            "\n",
            "/sbin/ldconfig.real: /usr/local/lib/libur_loader.so.0 is not a symbolic link\n",
            "\n",
            "Processing triggers for man-db (2.10.2-1) ...\n",
            "Collecting camelot-py\n",
            "  Downloading camelot_py-0.11.0-py3-none-any.whl.metadata (8.3 kB)\n",
            "Requirement already satisfied: chardet>=3.0.4 in /usr/local/lib/python3.10/dist-packages (from camelot-py) (5.2.0)\n",
            "Requirement already satisfied: click>=6.7 in /usr/local/lib/python3.10/dist-packages (from camelot-py) (8.1.7)\n",
            "Requirement already satisfied: numpy>=1.13.3 in /usr/local/lib/python3.10/dist-packages (from camelot-py) (1.26.4)\n",
            "Requirement already satisfied: openpyxl>=2.5.8 in /usr/local/lib/python3.10/dist-packages (from camelot-py) (3.1.5)\n",
            "Requirement already satisfied: pandas>=0.23.4 in /usr/local/lib/python3.10/dist-packages (from camelot-py) (2.1.4)\n",
            "Collecting pdfminer.six>=20200726 (from camelot-py)\n",
            "  Downloading pdfminer.six-20240706-py3-none-any.whl.metadata (4.1 kB)\n",
            "Collecting pypdf>=3.0.0 (from camelot-py)\n",
            "  Downloading pypdf-4.3.1-py3-none-any.whl.metadata (7.4 kB)\n",
            "Requirement already satisfied: tabulate>=0.8.9 in /usr/local/lib/python3.10/dist-packages (from camelot-py) (0.9.0)\n",
            "Requirement already satisfied: et-xmlfile in /usr/local/lib/python3.10/dist-packages (from openpyxl>=2.5.8->camelot-py) (1.1.0)\n",
            "Requirement already satisfied: python-dateutil>=2.8.2 in /usr/local/lib/python3.10/dist-packages (from pandas>=0.23.4->camelot-py) (2.8.2)\n",
            "Requirement already satisfied: pytz>=2020.1 in /usr/local/lib/python3.10/dist-packages (from pandas>=0.23.4->camelot-py) (2024.1)\n",
            "Requirement already satisfied: tzdata>=2022.1 in /usr/local/lib/python3.10/dist-packages (from pandas>=0.23.4->camelot-py) (2024.1)\n",
            "Requirement already satisfied: charset-normalizer>=2.0.0 in /usr/local/lib/python3.10/dist-packages (from pdfminer.six>=20200726->camelot-py) (3.3.2)\n",
            "Requirement already satisfied: cryptography>=36.0.0 in /usr/local/lib/python3.10/dist-packages (from pdfminer.six>=20200726->camelot-py) (43.0.1)\n",
            "Requirement already satisfied: typing_extensions>=4.0 in /usr/local/lib/python3.10/dist-packages (from pypdf>=3.0.0->camelot-py) (4.12.2)\n",
            "Requirement already satisfied: cffi>=1.12 in /usr/local/lib/python3.10/dist-packages (from cryptography>=36.0.0->pdfminer.six>=20200726->camelot-py) (1.17.1)\n",
            "Requirement already satisfied: six>=1.5 in /usr/local/lib/python3.10/dist-packages (from python-dateutil>=2.8.2->pandas>=0.23.4->camelot-py) (1.16.0)\n",
            "Requirement already satisfied: pycparser in /usr/local/lib/python3.10/dist-packages (from cffi>=1.12->cryptography>=36.0.0->pdfminer.six>=20200726->camelot-py) (2.22)\n",
            "Downloading camelot_py-0.11.0-py3-none-any.whl (40 kB)\n",
            "\u001b[2K   \u001b[90m━━━━━━━━━━━━━━━━━━━━━━━━━━━━━━━━━━━━━━━━\u001b[0m \u001b[32m41.0/41.0 kB\u001b[0m \u001b[31m1.6 MB/s\u001b[0m eta \u001b[36m0:00:00\u001b[0m\n",
            "\u001b[?25hDownloading pdfminer.six-20240706-py3-none-any.whl (5.6 MB)\n",
            "\u001b[2K   \u001b[90m━━━━━━━━━━━━━━━━━━━━━━━━━━━━━━━━━━━━━━━━\u001b[0m \u001b[32m5.6/5.6 MB\u001b[0m \u001b[31m50.8 MB/s\u001b[0m eta \u001b[36m0:00:00\u001b[0m\n",
            "\u001b[?25hDownloading pypdf-4.3.1-py3-none-any.whl (295 kB)\n",
            "\u001b[2K   \u001b[90m━━━━━━━━━━━━━━━━━━━━━━━━━━━━━━━━━━━━━━━━\u001b[0m \u001b[32m295.8/295.8 kB\u001b[0m \u001b[31m18.2 MB/s\u001b[0m eta \u001b[36m0:00:00\u001b[0m\n",
            "\u001b[?25hInstalling collected packages: pypdf, pdfminer.six, camelot-py\n",
            "Successfully installed camelot-py-0.11.0 pdfminer.six-20240706 pypdf-4.3.1\n",
            "Collecting pdfplumber\n",
            "  Downloading pdfplumber-0.11.4-py3-none-any.whl.metadata (41 kB)\n",
            "\u001b[2K     \u001b[90m━━━━━━━━━━━━━━━━━━━━━━━━━━━━━━━━━━━━━━━━\u001b[0m \u001b[32m42.0/42.0 kB\u001b[0m \u001b[31m1.5 MB/s\u001b[0m eta \u001b[36m0:00:00\u001b[0m\n",
            "\u001b[?25hCollecting pdfminer.six==20231228 (from pdfplumber)\n",
            "  Downloading pdfminer.six-20231228-py3-none-any.whl.metadata (4.2 kB)\n",
            "Requirement already satisfied: Pillow>=9.1 in /usr/local/lib/python3.10/dist-packages (from pdfplumber) (9.4.0)\n",
            "Collecting pypdfium2>=4.18.0 (from pdfplumber)\n",
            "  Downloading pypdfium2-4.30.0-py3-none-manylinux_2_17_x86_64.manylinux2014_x86_64.whl.metadata (48 kB)\n",
            "\u001b[2K     \u001b[90m━━━━━━━━━━━━━━━━━━━━━━━━━━━━━━━━━━━━━━━━\u001b[0m \u001b[32m48.5/48.5 kB\u001b[0m \u001b[31m2.1 MB/s\u001b[0m eta \u001b[36m0:00:00\u001b[0m\n",
            "\u001b[?25hRequirement already satisfied: charset-normalizer>=2.0.0 in /usr/local/lib/python3.10/dist-packages (from pdfminer.six==20231228->pdfplumber) (3.3.2)\n",
            "Requirement already satisfied: cryptography>=36.0.0 in /usr/local/lib/python3.10/dist-packages (from pdfminer.six==20231228->pdfplumber) (43.0.1)\n",
            "Requirement already satisfied: cffi>=1.12 in /usr/local/lib/python3.10/dist-packages (from cryptography>=36.0.0->pdfminer.six==20231228->pdfplumber) (1.17.1)\n",
            "Requirement already satisfied: pycparser in /usr/local/lib/python3.10/dist-packages (from cffi>=1.12->cryptography>=36.0.0->pdfminer.six==20231228->pdfplumber) (2.22)\n",
            "Downloading pdfplumber-0.11.4-py3-none-any.whl (59 kB)\n",
            "\u001b[2K   \u001b[90m━━━━━━━━━━━━━━━━━━━━━━━━━━━━━━━━━━━━━━━━\u001b[0m \u001b[32m59.2/59.2 kB\u001b[0m \u001b[31m3.8 MB/s\u001b[0m eta \u001b[36m0:00:00\u001b[0m\n",
            "\u001b[?25hDownloading pdfminer.six-20231228-py3-none-any.whl (5.6 MB)\n",
            "\u001b[2K   \u001b[90m━━━━━━━━━━━━━━━━━━━━━━━━━━━━━━━━━━━━━━━━\u001b[0m \u001b[32m5.6/5.6 MB\u001b[0m \u001b[31m57.3 MB/s\u001b[0m eta \u001b[36m0:00:00\u001b[0m\n",
            "\u001b[?25hDownloading pypdfium2-4.30.0-py3-none-manylinux_2_17_x86_64.manylinux2014_x86_64.whl (2.8 MB)\n",
            "\u001b[2K   \u001b[90m━━━━━━━━━━━━━━━━━━━━━━━━━━━━━━━━━━━━━━━━\u001b[0m \u001b[32m2.8/2.8 MB\u001b[0m \u001b[31m59.4 MB/s\u001b[0m eta \u001b[36m0:00:00\u001b[0m\n",
            "\u001b[?25hInstalling collected packages: pypdfium2, pdfminer.six, pdfplumber\n",
            "  Attempting uninstall: pdfminer.six\n",
            "    Found existing installation: pdfminer.six 20240706\n",
            "    Uninstalling pdfminer.six-20240706:\n",
            "      Successfully uninstalled pdfminer.six-20240706\n",
            "Successfully installed pdfminer.six-20231228 pdfplumber-0.11.4 pypdfium2-4.30.0\n"
          ]
        }
      ]
    },
    {
      "cell_type": "code",
      "source": [
        "import camelot\n",
        "import json\n",
        "import requests\n",
        "from bs4 import BeautifulSoup\n",
        "import os\n",
        "import pdfplumber\n",
        "import pandas as pd\n",
        "\n",
        "# Function to download PDFs with headers\n",
        "def download_pdf(url, save_dir):\n",
        "    headers = {\n",
        "        'User-Agent': 'Mozilla/5.0 (Windows NT 10.0; Win64; x64) AppleWebKit/537.36 (KHTML, like Gecko) Chrome/85.0.4183.121 Safari/537.36',\n",
        "        'Accept': 'text/html,application/xhtml+xml,application/xml;q=0.9,image/avif,image/webp,image/apng,*/*;q=0.8',\n",
        "        'Accept-Language': 'en-US,en;q=0.5',\n",
        "        'Connection': 'keep-alive',\n",
        "        'Upgrade-Insecure-Requests': '1'\n",
        "    }\n",
        "\n",
        "    try:\n",
        "        response = requests.get(url, headers=headers)\n",
        "        response.raise_for_status()\n",
        "        file_name = os.path.join(save_dir, url.split('/')[-1])\n",
        "        with open(file_name, 'wb') as file:\n",
        "            file.write(response.content)\n",
        "        print(f\"Downloaded: {file_name}\")\n",
        "    except Exception as e:\n",
        "        print(f\"Failed to download {url}: {e}\")\n",
        "\n",
        "# PDF URLs to download\n",
        "pdfs_to_download = [\n",
        "    'https://www.mha.gov.in/sites/default/files/2024-07/LISTOFUNLAWFULASSOCIATIONS_11072024.pdf',\n",
        "    'https://www.mha.gov.in/sites/default/files/2024-03/Listof57terrorists_07032024.pdf',\n",
        "    'https://www.mha.gov.in/sites/default/files/2023-06/TERRORIST_ORGANIZATIONS_10032023.pdf'\n",
        "]\n",
        "\n",
        "# Directory to save the downloaded PDFs\n",
        "save_dir = '/content/'\n",
        "os.makedirs(save_dir, exist_ok=True)\n",
        "\n",
        "# Download PDFs\n",
        "for url in pdfs_to_download:\n",
        "    download_pdf(url, save_dir)\n",
        "\n",
        "# Function to process PDF files and convert to dictionary\n",
        "def process_pdf(pdf_path):\n",
        "    try:\n",
        "        with pdfplumber.open(pdf_path) as pdf:\n",
        "            first_page = pdf.pages[0]  # Assuming the title is on the first page\n",
        "            text = first_page.extract_text()\n",
        "            first_sentence = text.split('.')[0] + '.'\n",
        "\n",
        "        tables = camelot.read_pdf(pdf_path, pages='all')\n",
        "        combined_df = pd.concat([table.df for table in tables], ignore_index=True)\n",
        "\n",
        "        if not combined_df.empty:\n",
        "            new_header = combined_df.iloc[0]\n",
        "            combined_df = combined_df[1:]\n",
        "            combined_df.columns = new_header\n",
        "\n",
        "            if len(combined_df.columns) > 1:\n",
        "                combined_df.columns = ['sr_no', combined_df.columns[1].replace(\" \", \"_\")]\n",
        "\n",
        "            combined_df['sr_no'] = combined_df['sr_no'].str.strip('.')\n",
        "\n",
        "            data_dict = combined_df.to_dict(orient='records')\n",
        "\n",
        "            result_dict = {\n",
        "                'title': first_sentence,\n",
        "                'data': data_dict\n",
        "            }\n",
        "        else:\n",
        "            result_dict = {'title': 'No data', 'data': []}\n",
        "\n",
        "    except Exception as e:\n",
        "        print(f\"Failed to process {pdf_path}: {e}\")\n",
        "        result_dict = {'title': 'Error', 'data': []}\n",
        "\n",
        "    return result_dict\n",
        "\n",
        "# Process each PDF file\n",
        "Name_of_the_Terrorist = process_pdf('/content/Listof57terrorists_07032024.pdf')\n",
        "Name_of_Terrorist_Organization = process_pdf('/content/TERRORIST_ORGANIZATIONS_10032023.pdf')\n",
        "Name_of_Unlawful_Association = process_pdf('/content/LISTOFUNLAWFULASSOCIATIONS_11072024.pdf')\n",
        "\n",
        "# Print the final dictionaries\n",
        "print(\"Name_of_the_Terrorist:\")\n",
        "print(Name_of_the_Terrorist)\n",
        "print('*'*100)\n",
        "\n",
        "print(\"\\nName_of_Terrorist_Organization:\")\n",
        "print(Name_of_Terrorist_Organization)\n",
        "print('**'*100)\n",
        "\n",
        "print(\"\\nName_of_Unlawful_Association:\")\n",
        "print(Name_of_Unlawful_Association)\n"
      ],
      "metadata": {
        "colab": {
          "base_uri": "https://localhost:8080/"
        },
        "id": "gi6EF7OEVObi",
        "outputId": "5cfc8371-1c47-4cb0-d49b-70482646c9bc"
      },
      "execution_count": null,
      "outputs": [
        {
          "output_type": "stream",
          "name": "stdout",
          "text": [
            "Downloaded: /content/LISTOFUNLAWFULASSOCIATIONS_11072024.pdf\n",
            "Downloaded: /content/Listof57terrorists_07032024.pdf\n",
            "Downloaded: /content/TERRORIST_ORGANIZATIONS_10032023.pdf\n",
            "Name_of_the_Terrorist:\n",
            "{'title': 'LIST OF INDIVIDUAL TERRORISTS DESIGNATED UNDER SECTION 35 OF THE\\nUNLAWFUL ACTIVITIES (PREVENTION) ACT, 1967, LISTED IN THE IVth SCHEDULE\\nOF THE ACT\\nSl.', 'data': [{'sr_no': '1', 'Name_of_the_Terrorist': 'Maulana Masood Azhar @ Maulana Mohammad Masood Azhar Alvi @ Vali \\nAdam Issa'}, {'sr_no': '2', 'Name_of_the_Terrorist': 'Hafiz Muhammad Saeed @ Hafiz Mohammad Sahib @ Hafiz Mohaddad \\nSayid @ Hafiz Muhammad @ Hafiz Saeed @ Hafez Mohammad Saeed @ \\nHafiz Mohammad Sayeed @ Mohammad Sayed @ Muhammad Saeed'}, {'sr_no': '3', 'Name_of_the_Terrorist': 'Zaki-ur-Rehman Lakhvi @ Abu Waheed Irshad Ahmad Arshad  @ Kaki Ur-\\nRehman @ Zakir Rehman Lakhvi @ Zaki-Ur-Rehman Lakvi @ Zakir \\nRehman'}, {'sr_no': '4', 'Name_of_the_Terrorist': 'Dawood Ibrahim Kaskar @ Dawood Hasan Shiekh Kaskar @ Dawood Bhai \\n@ Dawood Sabri @Iqbal Seth @ Bada Patel @ Dawood Ebrahim @ Sheikh \\nDawood Hassan @ Abdul Hamid Abdul Aziz @ Anis Ibrahim @ Aziz Dilip @ \\nDaud Hasan Shaikh Ibrahim Kaskar @ Daud Ibrahim Memon Kaskar @ \\nDawood Hasan Ibrahim Kaskar @ Dawood Ibrahim Memon @ Kaskar \\nDawood Hasan @ Shaikh Mohd Ismail Abdul Rehman @ Dowood Hassan \\nShaikh Ibrahim @ Dawood Bhai Low quality @ Ibrahim Shaikh Modh Anis \\n@ Shaikh Ismail Abdul @ Sheikh Farooqi @ Iqbal Bhai'}, {'sr_no': '5', 'Name_of_the_Terrorist': 'Wadhawa Singh Babbar @Chacha @ Babbar'}, {'sr_no': '6', 'Name_of_the_Terrorist': 'Lakhbir Singh @ Rode'}, {'sr_no': '7', 'Name_of_the_Terrorist': 'Ranjeet Singh @ Neeta'}, {'sr_no': '8', 'Name_of_the_Terrorist': 'Paramjit Singh @ Panjwar'}, {'sr_no': '9', 'Name_of_the_Terrorist': 'Bhupinder Singh Bhinda'}, {'sr_no': '10', 'Name_of_the_Terrorist': 'Gurmeet Singh Bagga'}, {'sr_no': '11', 'Name_of_the_Terrorist': 'Gurpatwant Singh Pannun'}, {'sr_no': '12', 'Name_of_the_Terrorist': 'Hardeep Singh Nijjar'}, {'sr_no': '13', 'Name_of_the_Terrorist': 'Paramjit Singh @ Pamma'}, {'sr_no': '14', 'Name_of_the_Terrorist': 'Sajid Mir @ Sajid Majeed @ Ibrahim Shah @ Wasi @ Khalid @ Muhammad \\nWaseem.'}, {'sr_no': '15', 'Name_of_the_Terrorist': 'Yusuf Muzammil @ Ahmad Bhai @ Yousuf Muzammil Butt @ Hurreira Bhai'}, {'sr_no': '16', 'Name_of_the_Terrorist': 'Abdur Rehman Makki @ Abdul Rehman Makki'}, {'sr_no': '17', 'Name_of_the_Terrorist': 'Shahid Mehmood @ Shahid Mehmood Rehmatullah'}, {'sr_no': '18', 'Name_of_the_Terrorist': 'Farhatullah Ghori @ Abu Sufiyan @ Sardar Sahab @ Faru'}, {'sr_no': '19', 'Name_of_the_Terrorist': 'Abdul Rauf Asghar @ Mufti @ Mufti Asghar @ Saad baba @ Maulana Mufti \\nRauf Asghar'}, {'sr_no': '20', 'Name_of_the_Terrorist': 'Ibrahim Athar @ Ahmed Ali Mohd. Ali Shaikh @ Javed Amjad Siddiqui @ \\nA.A. Shaikh@ Chief'}, {'sr_no': '21', 'Name_of_the_Terrorist': 'Yusuf Azhar @ Azhar Yusuf @ Mohd. Salim'}, {'sr_no': '22', 'Name_of_the_Terrorist': 'Shahid Latif @ Chota Shahid Bhai @ Noor Al Din'}, {'sr_no': '23', 'Name_of_the_Terrorist': 'Syed Mohammad Yusuf Shah @ Syed \\nSalahudeen @ Peer Sahab @ Buzurg'}, {'sr_no': '24', 'Name_of_the_Terrorist': 'Ghulam Nabi Khan @ Amir Khan @ Saifullah Khalid @ Khalid Saifullah @ \\nJawaad @ Daand'}, {'sr_no': '25', 'Name_of_the_Terrorist': 'Zaffar Hussain Bhat @ Khursheed @ Mohd. Zafar Khan @ Moulvi @ \\nKhursheed Ibrahim'}, {'sr_no': '26', 'Name_of_the_Terrorist': 'Riyaz Ismail Shahbandri @ Shah Riyaz Ahmed @ Riyaz Bhatkal @ Md. \\nRiyaz @ Ahmed Bhai @ Rasool Khan @ Roshan Khan @ Aziz'}, {'sr_no': '27', 'Name_of_the_Terrorist': 'Md. Iqbal @ Shabandri Mohammed Iqbal @ Iqbal Bhatkal'}, {'sr_no': '28', 'Name_of_the_Terrorist': 'Shaikh Shakeel @ Chhota Shakeel'}, {'sr_no': '29', 'Name_of_the_Terrorist': 'Mohammad Anis'}, {'sr_no': '30', 'Name_of_the_Terrorist': 'Ibrahim Abdul Razak Memon @ Ismail@ Tiger Memon'}, {'sr_no': '31', 'Name_of_the_Terrorist': 'Javed Chikna @  Javed  Dawood Tailor'}, {'sr_no': '32', 'Name_of_the_Terrorist': 'Hafiz Talha Saeed'}, {'sr_no': '33', 'Name_of_the_Terrorist': 'Mohiuddin Aurangzeb Alamgir  @ Maktab Ameer   @Mujahid Bhai \\n@Muhammad Bhai  @M. Ammar @ Abu Ammar Madam @ Orangzaib \\nAnzar @ Maulana Ammar Madni  @ Maulana Ammar @Abu Ammar \\n@Ammar Alvi”.'}, {'sr_no': '34', 'Name_of_the_Terrorist': 'Ali Kashif Jan @Jan Ali Kashif'}, {'sr_no': '35', 'Name_of_the_Terrorist': 'Mustaq Ahmad Zargar @ Latram.'}, {'sr_no': '36', 'Name_of_the_Terrorist': 'Ashiq Ahmed Nengroo @Nengroo @Ashaq Hussain Nengroo @Ashaq \\nMoulvi.'}, {'sr_no': '37', 'Name_of_the_Terrorist': 'Sheikh Sajad @Sheikh Sajjad Gul @Sajjad Gul @Sajjad Ah Sheikh'}, {'sr_no': '38', 'Name_of_the_Terrorist': 'Arjumand Gulzar Dar @ Hamza Burhan @Doctor'}, {'sr_no': '39', 'Name_of_the_Terrorist': 'Imtiyaz Ahmad Kandoo @ Sajad @ Fayaz Sopore'}, {'sr_no': '40', 'Name_of_the_Terrorist': 'Showkat Ahmad Sheikh @ Showkat Mochi'}, {'sr_no': '41', 'Name_of_the_Terrorist': 'Basit Ahmed Reshi'}, {'sr_no': '42', 'Name_of_the_Terrorist': 'Habibullah Malik @ Sajid Jutt @Saifullah @Noomi @Numan @Langda @ \\nAli Sajid @ Usman Habib @ Shani'}, {'sr_no': '43', 'Name_of_the_Terrorist': 'Basheer Ahmad Peer @ Imtiyaz Alam @Haji'}, {'sr_no': '44', 'Name_of_the_Terrorist': 'Irshad Ahmad @ Idrees'}, {'sr_no': '45', 'Name_of_the_Terrorist': 'Rafiq Nai @Sultan'}, {'sr_no': '46', 'Name_of_the_Terrorist': 'Zafar Iqbal @ Salim @ Jamaldeen @ Shamsher Nai @ Shamsher Khan'}, {'sr_no': '47', 'Name_of_the_Terrorist': 'Bilal Ahmad Beigh @ Babar'}, {'sr_no': '48', 'Name_of_the_Terrorist': 'Sheikh Jameel-ur-Rehman @ Sheikh Sahab @ Rehman @ Abu Nusrat @ \\nFayaz Ahmed Dar'}, {'sr_no': '49', 'Name_of_the_Terrorist': 'Aijaz Ahmad Ahangar @Abu Usman Al-Kashmiri'}, {'sr_no': '50', 'Name_of_the_Terrorist': 'Mohammad Amin Khubaib @ Abu Khubaiab @ Pinna @ Muhammed Amin \\nButt'}, {'sr_no': '51', 'Name_of_the_Terrorist': 'Arbaz Ahmad Mir'}, {'sr_no': '52', 'Name_of_the_Terrorist': 'Dr. Asif Maqbool Dar'}, {'sr_no': '53', 'Name_of_the_Terrorist': 'Arshdeep Singh Gill @Arsh Dala'}, {'sr_no': '54', 'Name_of_the_Terrorist': 'Harwinder Singh Sandhu @Rinda'}, {'sr_no': '55', 'Name_of_the_Terrorist': 'Lakhbir Singh @Landa'}, {'sr_no': '56', 'Name_of_the_Terrorist': 'Satwinder Singh @ Satinderjit Singh @ Goldy Brar'}, {'sr_no': '57', 'Name_of_the_Terrorist': 'Mohammad Qasim Gujjar @ Salman @ Suleman'}]}\n",
            "****************************************************************************************************\n",
            "\n",
            "Name_of_Terrorist_Organization:\n",
            "{'title': 'LIST OF ORGANISATIONS DESIGNATED AS ‘TERRORIST ORGANIZATIONS’ UNDER\\nSECTION 35 OF THE UNLAWFUL ACTIVITIES (PREVENTION) ACT, 1967, LISTED IN\\nTHE 1St SCHEDULE OF THE ACT.', 'data': [{'sr_no': '1', 'Name_of_Terrorist_Organization': 'Babbar Khalsa International'}, {'sr_no': '2', 'Name_of_Terrorist_Organization': 'Khalistan Commando Force'}, {'sr_no': '3', 'Name_of_Terrorist_Organization': 'Khalistan Zindabad Force'}, {'sr_no': '4', 'Name_of_Terrorist_Organization': 'International Sikh Youth Federation'}, {'sr_no': '5', 'Name_of_Terrorist_Organization': 'Lashkar-E-Taiba/Pasban-E-Ahle  Hadis/The  Resistance \\nFront \\nand \\nall \\nits \\nmanifestations and front organizations.'}, {'sr_no': '6', 'Name_of_Terrorist_Organization': 'Jaish-E-Mohammed/Tahreik-E-Furqan/People’s Anti-Fascist-Front  (PAFF) and \\nall its manifestations and front organizations.'}, {'sr_no': '7', 'Name_of_Terrorist_Organization': 'Harkat-ul-Mujahideen/Harkat-ul-Ansar/Harkat-ul-Jehad-E-Islami  or  Ansar-Ul-\\nUmmah'}, {'sr_no': '8', 'Name_of_Terrorist_Organization': 'Hizb-Ul-Mujahideen/Hizb-Ul-Mujahideen Pir Panjal Regiment'}, {'sr_no': '9', 'Name_of_Terrorist_Organization': 'Al-Umar-Mujahideen'}, {'sr_no': '10', 'Name_of_Terrorist_Organization': 'Jammu and Kashmir Islamic Front'}, {'sr_no': '11', 'Name_of_Terrorist_Organization': 'United Liberation Front of Assam (ULFA)'}, {'sr_no': '12', 'Name_of_Terrorist_Organization': 'National Democratic Front of Bodoland (NDFB) in Assam'}, {'sr_no': '13', 'Name_of_Terrorist_Organization': 'People Liberation Army (PLA)'}, {'sr_no': '14', 'Name_of_Terrorist_Organization': 'United National Liberation Front (UNLF)'}, {'sr_no': '15', 'Name_of_Terrorist_Organization': 'People’s Revolutionary Party of Kangleipak (PREPAK)'}, {'sr_no': '16', 'Name_of_Terrorist_Organization': 'Kangleipak Communist Party (KCP)'}, {'sr_no': '17', 'Name_of_Terrorist_Organization': 'Kanglei Yaol Kanba Lup (KYKL)'}, {'sr_no': '18', 'Name_of_Terrorist_Organization': 'Manipur Peoples Liberation Front (MPLF)'}, {'sr_no': '19', 'Name_of_Terrorist_Organization': 'All Tripura Tiger Force (ATTF)'}, {'sr_no': '20', 'Name_of_Terrorist_Organization': 'National Liberation Front of Tripura (NLFT)'}, {'sr_no': '21', 'Name_of_Terrorist_Organization': 'Liberation Tigers of Tamil Eelam (LTTE)'}, {'sr_no': '22', 'Name_of_Terrorist_Organization': 'Students Islamic Movement of India (SIMI)'}, {'sr_no': '23', 'Name_of_Terrorist_Organization': 'Deendar Anjuman'}, {'sr_no': '24', 'Name_of_Terrorist_Organization': 'Communist  Party of  India (Marxist-Leninist)  – Peoples War, all its formations \\nand front Organizations'}, {'sr_no': '25', 'Name_of_Terrorist_Organization': 'Maoist Communist Centre (MCC), all its formations and Front Organizations'}, {'sr_no': '26', 'Name_of_Terrorist_Organization': 'Al Badr'}, {'sr_no': '27', 'Name_of_Terrorist_Organization': 'Jamiat-ul-Mujahideen'}, {'sr_no': '28', 'Name_of_Terrorist_Organization': 'Al-Qaida/ Al-Qaida in Indian Sub-Continent (AQIS) and all its manifestations.'}, {'sr_no': '29', 'Name_of_Terrorist_Organization': 'Dukhtaran-E-Millat (DEM)'}, {'sr_no': '30', 'Name_of_Terrorist_Organization': 'Tamil Nadu Liberation Army (TNLA)'}, {'sr_no': '31', 'Name_of_Terrorist_Organization': 'Tamil National Retrieval Troops (TNRT)'}, {'sr_no': '32', 'Name_of_Terrorist_Organization': 'Akhil Bharat Nepali Ekta Samaj (ABNES)'}, {'sr_no': '33', 'Name_of_Terrorist_Organization': 'Organizations  listed in the  Schedule to the  UN Prevention and  Suppression of \\nTerrorism (Implementation of Security Council Resolutions) order, 2007 made \\nunder Section 2 of the United Nations (Security Council) Act, 1947 and amended \\nfrom time to time.'}, {'sr_no': '34', 'Name_of_Terrorist_Organization': 'Communist Party of India (Maoist) all its formations and front organizations.'}, {'sr_no': '35', 'Name_of_Terrorist_Organization': 'Indian Mujahideen, all its formations and front organizations'}, {'sr_no': '36', 'Name_of_Terrorist_Organization': 'Garo National Liberation Army (GNLA), all its formations and front organizations'}, {'sr_no': '37', 'Name_of_Terrorist_Organization': 'Kamatapur Liberation Organization, all its formations and front organizations'}, {'sr_no': '38', 'Name_of_Terrorist_Organization': 'Islamic  State/Islamic  State  of \\nIraq  and  Levant/Islamic  State  of \\nIraq  and \\nSyria/Daish, and all its manifestations.'}, {'sr_no': '39', 'Name_of_Terrorist_Organization': 'National Socialist Council of Nagaland (Khaplang) (NSCN(K)), all its formations \\nand front organizations.'}, {'sr_no': '40', 'Name_of_Terrorist_Organization': 'The Khalistan Liberation Force and all its manifestations.'}, {'sr_no': '41', 'Name_of_Terrorist_Organization': 'Tehreek-ul-Mujahideen (TuM) and all its manifestations.'}, {'sr_no': '42', 'Name_of_Terrorist_Organization': 'Jamaat-ul-Mujahideen Bangladesh or Jamaat-ul-Mujahideen India or Jamaat-ul-\\nMujahideen Hindustan and all its manifestations'}, {'sr_no': '43', 'Name_of_Terrorist_Organization': 'Jammu and Kashmir Ghaznavi Force (JKGF) and all its manifestations and front \\norganisations.'}, {'sr_no': '44', 'Name_of_Terrorist_Organization': 'Khalistan Tiger Force (KTF) and all its manifestations and front organisations.'}]}\n",
            "********************************************************************************************************************************************************************************************************\n",
            "\n",
            "Name_of_Unlawful_Association:\n",
            "{'title': 'LIST OF ASSOCIATIONS DECLARED AS ‘UNLAWFUL\\nASSOCIATION’ UNDER SUB-SECTION 1 OF SECTION 3 OF\\nUNLAWFUL ACTIVITIES (PREVENTION) ACT, 1967.', 'data': [{'sr_no': '1', 'Name_of_Unlawful_Association': 'Students Islamic Movement of India (SIMI)'}, {'sr_no': '2', 'Name_of_Unlawful_Association': 'United Liberation Front of Assam (ULFA)'}, {'sr_no': '3', 'Name_of_Unlawful_Association': 'National Democratic Front of Bodoland (NDFB)'}, {'sr_no': '4', 'Name_of_Unlawful_Association': 'All Tripura Tiger Force (ATTF)'}, {'sr_no': '5', 'Name_of_Unlawful_Association': 'Meitei Extremist Organizations, namely- \\n(i) Peoples’ Liberation Army (PLA) and its political wing, the Revolutionary \\nPeople’s Front (RPF) \\n(ii) United National Liberation Front (UNLF) and its armed wing, the Manipur \\nPeoples’ Army (MPA) \\n(iii)  Peoples’  Revolutionary  Party  of  Kangleipak  (PREPAK)  and  its  Armed \\nwing, the ‘Red Army’. \\n(iv) \\nKangleipak Communist Party (KCP) and its armed wing, also called \\nthe ‘Red Army’ \\n(v) \\nKanglei Yaol Kanba Lup (KYKL) \\n(vi) \\nCoordination Committee (CorCom) and \\n(vii) \\nAlliance for Socialist Unity Kangleipak (ASUK)'}, {'sr_no': '6', 'Name_of_Unlawful_Association': 'National Liberation Front of Tripura (NLFT)'}, {'sr_no': '7', 'Name_of_Unlawful_Association': 'Hynniewtrep National Liberation Council (HNLC)'}, {'sr_no': '8', 'Name_of_Unlawful_Association': 'Liberation Tigers of Tamil Eelam (LTTE)'}, {'sr_no': '9', 'Name_of_Unlawful_Association': 'National Socialist Council of Nagaland (Khaplang) [NSCN (K)]'}, {'sr_no': '10', 'Name_of_Unlawful_Association': 'Islamic Research Foundation (IRF)'}, {'sr_no': '11', 'Name_of_Unlawful_Association': 'Jamaat-e-Islami (JeI), Jammu and Kashmir'}, {'sr_no': '12', 'Name_of_Unlawful_Association': 'Jammu and Kashmir Liberation Front (Mohd. Yasin Malik faction) (JKLF-Y)'}, {'sr_no': '13', 'Name_of_Unlawful_Association': 'Sikhs for Justice (SFJ)'}, {'sr_no': '14', 'Name_of_Unlawful_Association': 'Popular Front of India (PFI) and its associates or affiliates or fronts including \\nRehab India Foundation (RIF), Campus Front of India (CFI), All India Imams \\nCouncil \\n(AIIC),  National  Confederation  of  Human  Rights  Organization \\n(NCHRO), National Women’s Front, Junior Front, Empower India Foundation \\nand Rehab Foundation, Kerala.'}, {'sr_no': '15', 'Name_of_Unlawful_Association': 'Jammu and Kashmir Democratic Freedom Party (JKDFP)'}, {'sr_no': '16', 'Name_of_Unlawful_Association': 'Muslim League Jammu Kashmir (Masarat Alam faction)/ (MLJK-MA)'}, {'sr_no': '17', 'Name_of_Unlawful_Association': 'Tehreek-e-Hurriyat, Jammu and Kashmir (TeH)'}, {'sr_no': '18', 'Name_of_Unlawful_Association': 'Muslim Conference Jammu and Kashmir (Bhat faction) (MCJK-B)'}, {'sr_no': '19', 'Name_of_Unlawful_Association': 'Muslim Conference Jammu and Kashmir (Sumji faction) (MCJK-S)'}, {'sr_no': '20', 'Name_of_Unlawful_Association': 'Jammu Kashmir National Front (JKNF)'}, {'sr_no': '21', 'Name_of_Unlawful_Association': 'Jammu and Kashmir Peoples Freedom League (JKPFL)'}, {'sr_no': '22', 'Name_of_Unlawful_Association': 'Four factions of Jammu and Kashmir Peoples League (JKPL), namely: JKPL \\n(Mukhtar  Ahmed  Waza),  JKPL \\n(Bashir  Ahmad  Tota),  JKPL \\n(Ghulam \\nMohammad Khan @Sopori) and JKPL (Aziz Sheikh) led by Yaqoob Sheikh'}]}\n"
          ]
        }
      ]
    },
    {
      "cell_type": "code",
      "source": [
        "# verify data\n",
        "df1=pd.DataFrame(Name_of_the_Terrorist)\n",
        "df1['data'][0]"
      ],
      "metadata": {
        "colab": {
          "base_uri": "https://localhost:8080/"
        },
        "id": "IXwBc_qHVOo_",
        "outputId": "92d7dc32-62ed-4c8a-d4f5-577a60a9a039"
      },
      "execution_count": null,
      "outputs": [
        {
          "output_type": "execute_result",
          "data": {
            "text/plain": [
              "{'sr_no': '1',\n",
              " 'Name_of_the_Terrorist': 'Maulana Masood Azhar @ Maulana Mohammad Masood Azhar Alvi @ Vali \\nAdam Issa'}"
            ]
          },
          "metadata": {},
          "execution_count": 3
        }
      ]
    },
    {
      "cell_type": "code",
      "source": [
        "df2=pd.DataFrame(Name_of_Terrorist_Organization)\n",
        "df2['data'][0]"
      ],
      "metadata": {
        "colab": {
          "base_uri": "https://localhost:8080/"
        },
        "id": "eZmVfxWBVOuB",
        "outputId": "e60ab84b-022a-4d5a-ac98-441b18df27ee"
      },
      "execution_count": null,
      "outputs": [
        {
          "output_type": "execute_result",
          "data": {
            "text/plain": [
              "{'sr_no': '1', 'Name_of_Terrorist_Organization': 'Babbar Khalsa International'}"
            ]
          },
          "metadata": {},
          "execution_count": 4
        }
      ]
    },
    {
      "cell_type": "code",
      "source": [
        "df3=pd.DataFrame(Name_of_Unlawful_Association)\n",
        "df3['data'][0]"
      ],
      "metadata": {
        "colab": {
          "base_uri": "https://localhost:8080/"
        },
        "id": "f6SmXM6GVOw1",
        "outputId": "a21a079d-b368-448f-f2f4-d934d041f9bc"
      },
      "execution_count": null,
      "outputs": [
        {
          "output_type": "execute_result",
          "data": {
            "text/plain": [
              "{'sr_no': '1',\n",
              " 'Name_of_Unlawful_Association': 'Students Islamic Movement of India (SIMI)'}"
            ]
          },
          "metadata": {},
          "execution_count": 5
        }
      ]
    },
    {
      "cell_type": "markdown",
      "source": [
        "\n",
        "\n",
        "### **PDFplumber-Based Text Extraction**\n",
        "\n",
        "# PDF Data Extraction from MHA Website Using PDFplumber\n",
        "\n",
        "This project automates the process of downloading PDFs from the Ministry of Home Affairs (MHA) website and extracting text data using **PDFplumber**. The focus is on extracting simple text from the PDFs, particularly from the first page, which typically contains important information like the title.\n",
        "\n",
        "## Project Overview\n",
        "\n",
        "- **Download PDFs**: Automatically download PDF files from the MHA website using `requests` and `BeautifulSoup`.\n",
        "- **Extract Text**: Use **PDFplumber** to extract textual content from the PDFs. This is useful for PDFs that contain simple, easy-to-read content.\n",
        "\n",
        "## Features\n",
        "\n",
        "- **Text Extraction**: Extracts text from the first page of each PDF file. The extracted text is stored in a dictionary format.\n",
        "  \n",
        "## Steps\n",
        "\n",
        "1. **Download PDFs from MHA Website**:\n",
        "   The MHA website is scraped using `BeautifulSoup` to extract the necessary PDF links, followed by downloading the files using `requests`.\n",
        "   \n",
        "2. **Text Extraction Using PDFplumber**:\n",
        "   **PDFplumber** is employed to extract text from the first page of each PDF, where titles and introductory content are often located.\n",
        "   \n",
        "3. **Data Organization**:\n",
        "   The extracted text from each PDF is stored in a Python dictionary, allowing for easy access and further processing.\n",
        "\n",
        "## Requirements\n",
        "\n",
        "Install the required Python libraries:\n",
        "\n",
        "```bash\n",
        "pip install requests pdfplumber beautifulsoup4 lxml\n",
        "```\n",
        "\n",
        "The script processes the following:\n",
        "- Downloads PDFs from the MHA website.\n",
        "- Extracts text from the first page of each PDF using PDFplumber.\n",
        "- Saves the text in a dictionary format.\n",
        "\n",
        "## Sample Output\n",
        "\n",
        "```python\n",
        "{\n",
        "    \"title\": \"List of Terrorists...\",\n",
        "    \"data\": {\n",
        "        \"Page_1\": \"This is the extracted text from the first page...\"\n",
        "    }\n",
        "}\n",
        "```\n"
      ],
      "metadata": {
        "id": "JMRcQtooUEgR"
      }
    },
    {
      "cell_type": "code",
      "source": [
        "import os\n",
        "import requests\n",
        "import pdfplumber\n",
        "from bs4 import BeautifulSoup\n",
        "\n",
        "# Define headers for web scraping\n",
        "headers = {\n",
        "    'User-Agent': 'Mozilla/5.0 (Windows NT 10.0; Win64; x64) AppleWebKit/537.36 (KHTML, like Gecko) Chrome/85.0.4183.121 Safari/537.36',\n",
        "    'Accept': 'text/html,application/xhtml+xml,application/xml;q=0.9,image/avif,image/webp,image/apng,*/*;q=0.8',\n",
        "    'Accept-Language': 'en-US,en;q=0.5',\n",
        "    'Connection': 'keep-alive',\n",
        "    'Upgrade-Insecure-Requests': '1'\n",
        "}\n",
        "\n",
        "def download_pdfs(pdf_urls, save_dir):\n",
        "    \"\"\"Download PDFs from the provided URLs and save them to the specified directory.\"\"\"\n",
        "    if not os.path.exists(save_dir):\n",
        "        os.makedirs(save_dir)\n",
        "\n",
        "    for url in pdf_urls:\n",
        "        try:\n",
        "            response = requests.get(url, headers=headers)\n",
        "            response.raise_for_status()  # Check for HTTP errors\n",
        "            file_name = os.path.join(save_dir, url.split('/')[-1])\n",
        "            with open(file_name, 'wb') as file:\n",
        "                file.write(response.content)\n",
        "            print(f\"Downloaded: {file_name}\")\n",
        "        except requests.RequestException as e:\n",
        "            print(f\"Failed to download {url}: {e}\")\n",
        "\n",
        "def extract_pdf_content_to_dict(pdf_path):\n",
        "    \"\"\"Extract text content from a PDF and return it as a dictionary.\"\"\"\n",
        "    extracted_data = {}\n",
        "    try:\n",
        "        with pdfplumber.open(pdf_path) as pdf:\n",
        "            for i, page in enumerate(pdf.pages):\n",
        "                text = page.extract_text()\n",
        "                if text:\n",
        "                    extracted_data[f'Page_{i+1}'] = text\n",
        "    except Exception as e:\n",
        "        print(f\"Error extracting content from {pdf_path}: {e}\")\n",
        "    return extracted_data\n",
        "\n",
        "def get_pdfs_content():\n",
        "    \"\"\"Main function to download and extract content from PDFs.\"\"\"\n",
        "    # Base URL and links extraction\n",
        "    webpage = requests.get('https://www.mha.gov.in/en/divisionofmha/counter-terrorism-and-counter-radicalization-division', headers=headers).text\n",
        "    soup = BeautifulSoup(webpage, 'lxml')\n",
        "    base_url = 'https://www.mha.gov.in'\n",
        "    links = soup.find_all('a', class_='ext')\n",
        "    pdf_urls = [base_url + link['href'] for link in links if link['href'].endswith('.pdf')]\n",
        "\n",
        "    # List of PDFs to download\n",
        "    pdfs_to_download = [\n",
        "        'https://www.mha.gov.in/sites/default/files/2024-07/LISTOFUNLAWFULASSOCIATIONS_11072024.pdf',\n",
        "        'https://www.mha.gov.in/sites/default/files/2024-03/Listof57terrorists_07032024.pdf',\n",
        "        'https://www.mha.gov.in/sites/default/files/2023-06/TERRORIST_ORGANIZATIONS_10032023.pdf'\n",
        "    ]\n",
        "\n",
        "    # Directory to save the downloaded PDFs\n",
        "    save_dir = '/content/'\n",
        "\n",
        "    # Download specified PDFs\n",
        "    download_pdfs(pdfs_to_download, save_dir)\n",
        "\n",
        "    # File paths for extracted content\n",
        "    pdf_files = {\n",
        "        'Name_of_the_Terrorist': os.path.join(save_dir, 'Listof57terrorists_07032024.pdf'),\n",
        "        'Name_of_Terrorist_Organization': os.path.join(save_dir, 'TERRORIST_ORGANIZATIONS_10032023.pdf'),\n",
        "        'Name_of_Unlawful_Association': os.path.join(save_dir, 'LISTOFUNLAWFULASSOCIATIONS_11072024.pdf')\n",
        "    }\n",
        "\n",
        "    # Extract content from each PDF and return as separate dictionaries\n",
        "    name_of_the_terrorist = extract_pdf_content_to_dict(pdf_files['Name_of_the_Terrorist'])\n",
        "    name_of_terrorist_organization = extract_pdf_content_to_dict(pdf_files['Name_of_Terrorist_Organization'])\n",
        "    name_of_unlawful_association = extract_pdf_content_to_dict(pdf_files['Name_of_Unlawful_Association'])\n",
        "\n",
        "    return name_of_the_terrorist, name_of_terrorist_organization, name_of_unlawful_association\n",
        "\n",
        "# Execute and get the extracted content\n",
        "name_of_the_terrorist, name_of_terrorist_organization, name_of_unlawful_association = get_pdfs_content()\n",
        "\n",
        "# Example to show the output\n",
        "print(\"\\nName_of_the_Terrorist - First Page Content:\\n\")\n",
        "print(name_of_the_terrorist.get('Page_1'))\n",
        "print('*' * 150)\n",
        "\n",
        "print(\"\\nName_of_Terrorist_Organization - First Page Content:\\n\")\n",
        "print(name_of_terrorist_organization.get('Page_1'))\n",
        "print('*' * 150)\n",
        "\n",
        "print(\"\\nName_of_Unlawful_Association - First Page Content:\\n\")\n",
        "print(name_of_unlawful_association.get('Page_1'))\n",
        "print('*' * 150)\n"
      ],
      "metadata": {
        "colab": {
          "base_uri": "https://localhost:8080/"
        },
        "id": "zbOrdyY1QS4N",
        "outputId": "2b32f6ff-6aac-4757-c983-549c0346bb80"
      },
      "execution_count": null,
      "outputs": [
        {
          "output_type": "stream",
          "name": "stdout",
          "text": [
            "Downloaded: /content/LISTOFUNLAWFULASSOCIATIONS_11072024.pdf\n",
            "Downloaded: /content/Listof57terrorists_07032024.pdf\n",
            "Downloaded: /content/TERRORIST_ORGANIZATIONS_10032023.pdf\n",
            "\n",
            "Name_of_the_Terrorist - First Page Content:\n",
            "\n",
            "LIST OF INDIVIDUAL TERRORISTS DESIGNATED UNDER SECTION 35 OF THE\n",
            "UNLAWFUL ACTIVITIES (PREVENTION) ACT, 1967, LISTED IN THE IVth SCHEDULE\n",
            "OF THE ACT\n",
            "Sl. Name of the Terrorist\n",
            "No.\n",
            "1. Maulana Masood Azhar @ Maulana Mohammad Masood Azhar Alvi @ Vali\n",
            "Adam Issa\n",
            "2. Hafiz Muhammad Saeed @ Hafiz Mohammad Sahib @ Hafiz Mohaddad\n",
            "Sayid @ Hafiz Muhammad @ Hafiz Saeed @ Hafez Mohammad Saeed @\n",
            "Hafiz Mohammad Sayeed @ Mohammad Sayed @ Muhammad Saeed\n",
            "3. Zaki-ur-Rehman Lakhvi @ Abu Waheed Irshad Ahmad Arshad @ Kaki Ur-\n",
            "Rehman @ Zakir Rehman Lakhvi @ Zaki-Ur-Rehman Lakvi @ Zakir\n",
            "Rehman\n",
            "4. Dawood Ibrahim Kaskar @ Dawood Hasan Shiekh Kaskar @ Dawood Bhai\n",
            "@ Dawood Sabri @Iqbal Seth @ Bada Patel @ Dawood Ebrahim @ Sheikh\n",
            "Dawood Hassan @ Abdul Hamid Abdul Aziz @ Anis Ibrahim @ Aziz Dilip @\n",
            "Daud Hasan Shaikh Ibrahim Kaskar @ Daud Ibrahim Memon Kaskar @\n",
            "Dawood Hasan Ibrahim Kaskar @ Dawood Ibrahim Memon @ Kaskar\n",
            "Dawood Hasan @ Shaikh Mohd Ismail Abdul Rehman @ Dowood Hassan\n",
            "Shaikh Ibrahim @ Dawood Bhai Low quality @ Ibrahim Shaikh Modh Anis\n",
            "@ Shaikh Ismail Abdul @ Sheikh Farooqi @ Iqbal Bhai\n",
            "5. Wadhawa Singh Babbar @Chacha @ Babbar\n",
            "6. Lakhbir Singh @ Rode\n",
            "7. Ranjeet Singh @ Neeta\n",
            "8. Paramjit Singh @ Panjwar\n",
            "9. Bhupinder Singh Bhinda\n",
            "10. Gurmeet Singh Bagga\n",
            "11. Gurpatwant Singh Pannun\n",
            "12. Hardeep Singh Nijjar\n",
            "13. Paramjit Singh @ Pamma\n",
            "14. Sajid Mir @ Sajid Majeed @ Ibrahim Shah @ Wasi @ Khalid @ Muhammad\n",
            "Waseem.\n",
            "15. Yusuf Muzammil @ Ahmad Bhai @ Yousuf Muzammil Butt @ Hurreira Bhai\n",
            "16. Abdur Rehman Makki @ Abdul Rehman Makki\n",
            "17. Shahid Mehmood @ Shahid Mehmood Rehmatullah\n",
            "18. Farhatullah Ghori @ Abu Sufiyan @ Sardar Sahab @ Faru\n",
            "19. Abdul Rauf Asghar @ Mufti @ Mufti Asghar @ Saad baba @ Maulana Mufti\n",
            "Rauf Asghar\n",
            "******************************************************************************************************************************************************\n",
            "\n",
            "Name_of_Terrorist_Organization - First Page Content:\n",
            "\n",
            "LIST OF ORGANISATIONS DESIGNATED AS ‘TERRORIST ORGANIZATIONS’ UNDER\n",
            "SECTION 35 OF THE UNLAWFUL ACTIVITIES (PREVENTION) ACT, 1967, LISTED IN\n",
            "THE 1St SCHEDULE OF THE ACT.\n",
            "S No. Name of Terrorist Organization\n",
            "1. Babbar Khalsa International\n",
            "2. Khalistan Commando Force\n",
            "3. Khalistan Zindabad Force\n",
            "4. International Sikh Youth Federation\n",
            "5. Lashkar-E-Taiba/Pasban-E-Ahle Hadis/The Resistance Front and all its\n",
            "manifestations and front organizations.\n",
            "6. Jaish-E-Mohammed/Tahreik-E-Furqan/People’s Anti-Fascist-Front (PAFF) and\n",
            "all its manifestations and front organizations.\n",
            "7. Harkat-ul-Mujahideen/Harkat-ul-Ansar/Harkat-ul-Jehad-E-Islami or Ansar-Ul-\n",
            "Ummah\n",
            "8. Hizb-Ul-Mujahideen/Hizb-Ul-Mujahideen Pir Panjal Regiment\n",
            "9. Al-Umar-Mujahideen\n",
            "10. Jammu and Kashmir Islamic Front\n",
            "11. United Liberation Front of Assam (ULFA)\n",
            "12. National Democratic Front of Bodoland (NDFB) in Assam\n",
            "13. People Liberation Army (PLA)\n",
            "14. United National Liberation Front (UNLF)\n",
            "15. People’s Revolutionary Party of Kangleipak (PREPAK)\n",
            "16. Kangleipak Communist Party (KCP)\n",
            "17. Kanglei Yaol Kanba Lup (KYKL)\n",
            "18. Manipur Peoples Liberation Front (MPLF)\n",
            "19. All Tripura Tiger Force (ATTF)\n",
            "20. National Liberation Front of Tripura (NLFT)\n",
            "21. Liberation Tigers of Tamil Eelam (LTTE)\n",
            "22. Students Islamic Movement of India (SIMI)\n",
            "******************************************************************************************************************************************************\n",
            "\n",
            "Name_of_Unlawful_Association - First Page Content:\n",
            "\n",
            "LIST OF ASSOCIATIONS DECLARED AS ‘UNLAWFUL\n",
            "ASSOCIATION’ UNDER SUB-SECTION 1 OF SECTION 3 OF\n",
            "UNLAWFUL ACTIVITIES (PREVENTION) ACT, 1967.\n",
            "Sl. Name of Unlawful Association\n",
            "No.\n",
            "1. Students Islamic Movement of India (SIMI)\n",
            "2. United Liberation Front of Assam (ULFA)\n",
            "3. National Democratic Front of Bodoland (NDFB)\n",
            "4. All Tripura Tiger Force (ATTF)\n",
            "5. Meitei Extremist Organizations, namely-\n",
            "(i) Peoples’ Liberation Army (PLA) and its political wing, the Revolutionary\n",
            "People’s Front (RPF)\n",
            "(ii) United National Liberation Front (UNLF) and its armed wing, the Manipur\n",
            "Peoples’ Army (MPA)\n",
            "(iii) Peoples’ Revolutionary Party of Kangleipak (PREPAK) and its Armed\n",
            "wing, the ‘Red Army’.\n",
            "(iv) Kangleipak Communist Party (KCP) and its armed wing, also called\n",
            "the ‘Red Army’\n",
            "(v) Kanglei Yaol Kanba Lup (KYKL)\n",
            "(vi) Coordination Committee (CorCom) and\n",
            "(vii) Alliance for Socialist Unity Kangleipak (ASUK)\n",
            "6. National Liberation Front of Tripura (NLFT)\n",
            "7. Hynniewtrep National Liberation Council (HNLC)\n",
            "8. Liberation Tigers of Tamil Eelam (LTTE)\n",
            "9. National Socialist Council of Nagaland (Khaplang) [NSCN (K)]\n",
            "10. Islamic Research Foundation (IRF)\n",
            "11. Jamaat-e-Islami (JeI), Jammu and Kashmir\n",
            "12. Jammu and Kashmir Liberation Front (Mohd. Yasin Malik faction) (JKLF-Y)\n",
            "13. Sikhs for Justice (SFJ)\n",
            "14. Popular Front of India (PFI) and its associates or affiliates or fronts including\n",
            "Rehab India Foundation (RIF), Campus Front of India (CFI), All India Imams\n",
            "Council (AIIC), National Confederation of Human Rights Organization\n",
            "(NCHRO), National Women’s Front, Junior Front, Empower India Foundation\n",
            "and Rehab Foundation, Kerala.\n",
            "******************************************************************************************************************************************************\n"
          ]
        }
      ]
    },
    {
      "cell_type": "code",
      "source": [
        "# verify data"
      ],
      "metadata": {
        "id": "aSg3lDRHUZWr"
      },
      "execution_count": null,
      "outputs": []
    },
    {
      "cell_type": "code",
      "source": [
        "name_of_terrorist_organization.get('Page_1')"
      ],
      "metadata": {
        "id": "0c0e4sIYUrBC",
        "colab": {
          "base_uri": "https://localhost:8080/",
          "height": 162
        },
        "outputId": "c2269de3-66b7-427a-9b4a-a06d9aadfffa"
      },
      "execution_count": null,
      "outputs": [
        {
          "output_type": "execute_result",
          "data": {
            "text/plain": [
              "'LIST OF ORGANISATIONS DESIGNATED AS ‘TERRORIST ORGANIZATIONS’ UNDER\\nSECTION 35 OF THE UNLAWFUL ACTIVITIES (PREVENTION) ACT, 1967, LISTED IN\\nTHE 1St SCHEDULE OF THE ACT.\\nS No. Name of Terrorist Organization\\n1. Babbar Khalsa International\\n2. Khalistan Commando Force\\n3. Khalistan Zindabad Force\\n4. International Sikh Youth Federation\\n5. Lashkar-E-Taiba/Pasban-E-Ahle Hadis/The Resistance Front and all its\\nmanifestations and front organizations.\\n6. Jaish-E-Mohammed/Tahreik-E-Furqan/People’s Anti-Fascist-Front (PAFF) and\\nall its manifestations and front organizations.\\n7. Harkat-ul-Mujahideen/Harkat-ul-Ansar/Harkat-ul-Jehad-E-Islami or Ansar-Ul-\\nUmmah\\n8. Hizb-Ul-Mujahideen/Hizb-Ul-Mujahideen Pir Panjal Regiment\\n9. Al-Umar-Mujahideen\\n10. Jammu and Kashmir Islamic Front\\n11. United Liberation Front of Assam (ULFA)\\n12. National Democratic Front of Bodoland (NDFB) in Assam\\n13. People Liberation Army (PLA)\\n14. United National Liberation Front (UNLF)\\n15. People’s Revolutionary Party of Kangleipak (PREPAK)\\n16. Kangleipak Communist Party (KCP)\\n17. Kanglei Yaol Kanba Lup (KYKL)\\n18. Manipur Peoples Liberation Front (MPLF)\\n19. All Tripura Tiger Force (ATTF)\\n20. National Liberation Front of Tripura (NLFT)\\n21. Liberation Tigers of Tamil Eelam (LTTE)\\n22. Students Islamic Movement of India (SIMI)'"
            ],
            "application/vnd.google.colaboratory.intrinsic+json": {
              "type": "string"
            }
          },
          "metadata": {},
          "execution_count": 8
        }
      ]
    },
    {
      "cell_type": "code",
      "source": [
        "name_of_unlawful_association.get('Page_1')"
      ],
      "metadata": {
        "colab": {
          "base_uri": "https://localhost:8080/",
          "height": 162
        },
        "id": "_KdDrhQkZyxY",
        "outputId": "9c2d9957-c7ec-47e4-98b9-d155c242952a"
      },
      "execution_count": null,
      "outputs": [
        {
          "output_type": "execute_result",
          "data": {
            "text/plain": [
              "'LIST OF ASSOCIATIONS DECLARED AS ‘UNLAWFUL\\nASSOCIATION’ UNDER SUB-SECTION 1 OF SECTION 3 OF\\nUNLAWFUL ACTIVITIES (PREVENTION) ACT, 1967.\\nSl. Name of Unlawful Association\\nNo.\\n1. Students Islamic Movement of India (SIMI)\\n2. United Liberation Front of Assam (ULFA)\\n3. National Democratic Front of Bodoland (NDFB)\\n4. All Tripura Tiger Force (ATTF)\\n5. Meitei Extremist Organizations, namely-\\n(i) Peoples’ Liberation Army (PLA) and its political wing, the Revolutionary\\nPeople’s Front (RPF)\\n(ii) United National Liberation Front (UNLF) and its armed wing, the Manipur\\nPeoples’ Army (MPA)\\n(iii) Peoples’ Revolutionary Party of Kangleipak (PREPAK) and its Armed\\nwing, the ‘Red Army’.\\n(iv) Kangleipak Communist Party (KCP) and its armed wing, also called\\nthe ‘Red Army’\\n(v) Kanglei Yaol Kanba Lup (KYKL)\\n(vi) Coordination Committee (CorCom) and\\n(vii) Alliance for Socialist Unity Kangleipak (ASUK)\\n6. National Liberation Front of Tripura (NLFT)\\n7. Hynniewtrep National Liberation Council (HNLC)\\n8. Liberation Tigers of Tamil Eelam (LTTE)\\n9. National Socialist Council of Nagaland (Khaplang) [NSCN (K)]\\n10. Islamic Research Foundation (IRF)\\n11. Jamaat-e-Islami (JeI), Jammu and Kashmir\\n12. Jammu and Kashmir Liberation Front (Mohd. Yasin Malik faction) (JKLF-Y)\\n13. Sikhs for Justice (SFJ)\\n14. Popular Front of India (PFI) and its associates or affiliates or fronts including\\nRehab India Foundation (RIF), Campus Front of India (CFI), All India Imams\\nCouncil (AIIC), National Confederation of Human Rights Organization\\n(NCHRO), National Women’s Front, Junior Front, Empower India Foundation\\nand Rehab Foundation, Kerala.'"
            ],
            "application/vnd.google.colaboratory.intrinsic+json": {
              "type": "string"
            }
          },
          "metadata": {},
          "execution_count": 9
        }
      ]
    },
    {
      "cell_type": "code",
      "source": [
        "name_of_the_terrorist.get('Page_1')"
      ],
      "metadata": {
        "colab": {
          "base_uri": "https://localhost:8080/",
          "height": 162
        },
        "id": "8x0yzXhwZ1i9",
        "outputId": "68bfbc68-124a-4acf-add8-df35bca4e71e"
      },
      "execution_count": null,
      "outputs": [
        {
          "output_type": "execute_result",
          "data": {
            "text/plain": [
              "'LIST OF INDIVIDUAL TERRORISTS DESIGNATED UNDER SECTION 35 OF THE\\nUNLAWFUL ACTIVITIES (PREVENTION) ACT, 1967, LISTED IN THE IVth SCHEDULE\\nOF THE ACT\\nSl. Name of the Terrorist\\nNo.\\n1. Maulana Masood Azhar @ Maulana Mohammad Masood Azhar Alvi @ Vali\\nAdam Issa\\n2. Hafiz Muhammad Saeed @ Hafiz Mohammad Sahib @ Hafiz Mohaddad\\nSayid @ Hafiz Muhammad @ Hafiz Saeed @ Hafez Mohammad Saeed @\\nHafiz Mohammad Sayeed @ Mohammad Sayed @ Muhammad Saeed\\n3. Zaki-ur-Rehman Lakhvi @ Abu Waheed Irshad Ahmad Arshad @ Kaki Ur-\\nRehman @ Zakir Rehman Lakhvi @ Zaki-Ur-Rehman Lakvi @ Zakir\\nRehman\\n4. Dawood Ibrahim Kaskar @ Dawood Hasan Shiekh Kaskar @ Dawood Bhai\\n@ Dawood Sabri @Iqbal Seth @ Bada Patel @ Dawood Ebrahim @ Sheikh\\nDawood Hassan @ Abdul Hamid Abdul Aziz @ Anis Ibrahim @ Aziz Dilip @\\nDaud Hasan Shaikh Ibrahim Kaskar @ Daud Ibrahim Memon Kaskar @\\nDawood Hasan Ibrahim Kaskar @ Dawood Ibrahim Memon @ Kaskar\\nDawood Hasan @ Shaikh Mohd Ismail Abdul Rehman @ Dowood Hassan\\nShaikh Ibrahim @ Dawood Bhai Low quality @ Ibrahim Shaikh Modh Anis\\n@ Shaikh Ismail Abdul @ Sheikh Farooqi @ Iqbal Bhai\\n5. Wadhawa Singh Babbar @Chacha @ Babbar\\n6. Lakhbir Singh @ Rode\\n7. Ranjeet Singh @ Neeta\\n8. Paramjit Singh @ Panjwar\\n9. Bhupinder Singh Bhinda\\n10. Gurmeet Singh Bagga\\n11. Gurpatwant Singh Pannun\\n12. Hardeep Singh Nijjar\\n13. Paramjit Singh @ Pamma\\n14. Sajid Mir @ Sajid Majeed @ Ibrahim Shah @ Wasi @ Khalid @ Muhammad\\nWaseem.\\n15. Yusuf Muzammil @ Ahmad Bhai @ Yousuf Muzammil Butt @ Hurreira Bhai\\n16. Abdur Rehman Makki @ Abdul Rehman Makki\\n17. Shahid Mehmood @ Shahid Mehmood Rehmatullah\\n18. Farhatullah Ghori @ Abu Sufiyan @ Sardar Sahab @ Faru\\n19. Abdul Rauf Asghar @ Mufti @ Mufti Asghar @ Saad baba @ Maulana Mufti\\nRauf Asghar'"
            ],
            "application/vnd.google.colaboratory.intrinsic+json": {
              "type": "string"
            }
          },
          "metadata": {},
          "execution_count": 10
        }
      ]
    },
    {
      "cell_type": "code",
      "source": [],
      "metadata": {
        "id": "OPI4_A4BZ2F-"
      },
      "execution_count": null,
      "outputs": []
    }
  ]
}